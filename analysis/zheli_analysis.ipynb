{
 "cells": [
  {
   "cell_type": "code",
   "execution_count": 1,
   "metadata": {
    "collapsed": true
   },
   "outputs": [],
   "source": [
    "import pandas as pd\n",
    "import mysql.connector\n",
    "import numpy as np\n",
    "from matplotlib import pyplot as plt\n",
    "from sklearn.cluster import KMeans\n",
    "from sklearn import preprocessing\n"
   ]
  },
  {
   "cell_type": "markdown",
   "source": [
    "##set up connection"
   ],
   "metadata": {
    "collapsed": false
   }
  },
  {
   "cell_type": "code",
   "execution_count": 2,
   "outputs": [],
   "source": [
    "# Functions that used to connect with the cloud database and display results.\n",
    "def create_connection():\n",
    "    conn = None\n",
    "    try:\n",
    "       conn = mysql.connector.connect(\n",
    "          user=\"DB00004175\",\n",
    "          password=\"tTNlXEirHh)EmwXhtp4koTR\",\n",
    "          host=\"menu-data-db.mdb0002067.db.skysql.net\",\n",
    "          ssl_ca=\"skysql_chain.pem\",\n",
    "          port=5001)\n",
    "       conn.autocommit = False\n",
    "       return conn\n",
    "    except mysql.connector.Error as e:\n",
    "       print(f\"Error connecting to MariaDB Platform: {e}\")\n",
    "    return conn\n",
    "\n",
    "def sql_execute(conn, sql):\n",
    "\n",
    "    try:\n",
    "        cur = conn.cursor()\n",
    "        cur.execute(sql, multi=True)\n",
    "        conn.commit()\n",
    "    except mysql.connector.Error as e:\n",
    "        print(e)\n",
    "\n",
    "def sql_execute_show(conn, sql):\n",
    "\n",
    "    try:\n",
    "        df = pd.read_sql(sql, con = conn)\n",
    "        return df\n",
    "    except mysql.connector.Error as e:\n",
    "        print(e)"
   ],
   "metadata": {
    "collapsed": false,
    "pycharm": {
     "name": "#%%\n"
    }
   }
  },
  {
   "cell_type": "code",
   "execution_count": 3,
   "outputs": [],
   "source": [
    "# Only call once\n",
    "conn = create_connection()"
   ],
   "metadata": {
    "collapsed": false,
    "pycharm": {
     "name": "#%%\n"
    }
   }
  },
  {
   "cell_type": "markdown",
   "source": [
    "## fetch data from database and run clustering method to identify groups of restaurant based on their menu nutrient\n",
    "## segment restaurant into groups with similar nutrient type\n",
    "## It will help build our \"people also like\" recommendation"
   ],
   "metadata": {
    "collapsed": false
   }
  },
  {
   "cell_type": "code",
   "execution_count": 4,
   "outputs": [],
   "source": [
    "df_sql = sql_execute_show(conn, sql = '''\n",
    "SELECT b.r_name, AVG(calories), AVG(total_fat), AVG(Protein), AVG(sodium), AVG(sugar), AVG(dietary_Fiber)\n",
    "FROM menu_cstore.nutrition_facts a\n",
    "LEFT JOIN menu_cstore.restaurant b ON a.r_id = b.r_id\n",
    "GROUP BY b.r_name\n",
    ";\n",
    "''')"
   ],
   "metadata": {
    "collapsed": false,
    "pycharm": {
     "name": "#%%\n"
    }
   }
  },
  {
   "cell_type": "markdown",
   "source": [
    "##data cleasing and normalization"
   ],
   "metadata": {
    "collapsed": false
   }
  },
  {
   "cell_type": "code",
   "execution_count": 5,
   "outputs": [],
   "source": [
    "def clean_dataset(df):\n",
    "    assert isinstance(df, pd.DataFrame), \"df needs to be a pd.DataFrame\"\n",
    "    df.dropna(inplace=True)\n",
    "    indices_to_keep = ~df.isin([np.nan, np.inf, -np.inf]).any(1)\n",
    "    return df[indices_to_keep].astype(np.float64)\n",
    "\n",
    "df_re = df_sql.set_index('r_name')\n",
    "clean_dataset(df_re)\n",
    "names = pd.DataFrame(df_re.index)\n",
    "\n",
    "\n",
    "scaler = preprocessing.MinMaxScaler()\n",
    "df_re_normal = scaler.fit_transform(df_re)"
   ],
   "metadata": {
    "collapsed": false,
    "pycharm": {
     "name": "#%%\n"
    }
   }
  },
  {
   "cell_type": "markdown",
   "source": [
    "##clustering and find out k = 4 where the decrease in distortion starts to level off"
   ],
   "metadata": {
    "collapsed": false,
    "pycharm": {
     "name": "#%% md\n"
    }
   }
  },
  {
   "cell_type": "code",
   "execution_count": 6,
   "outputs": [
    {
     "data": {
      "text/plain": "<Figure size 432x288 with 1 Axes>",
      "image/png": "[encoded data removed]"
     },
     "metadata": {
      "needs_background": "light"
     },
     "output_type": "display_data"
    }
   ],
   "source": [
    "inertia = []\n",
    "K = range(1,10)\n",
    "for k in K:\n",
    "    kmeanModel = KMeans(n_clusters=k).fit(df_re_normal)\n",
    "    kmeanModel.fit(df_re_normal)\n",
    "    inertia.append(kmeanModel.inertia_)\n",
    "plt.plot(K, inertia, 'bx-')\n",
    "plt.xlabel('k')\n",
    "plt.ylabel('Inertia')\n",
    "plt.show()"
   ],
   "metadata": {
    "collapsed": false,
    "pycharm": {
     "name": "#%%\n"
    }
   }
  },
  {
   "cell_type": "markdown",
   "source": [
    "##showing restaurants in the same group that we can recommand resaurants with similiar nutrients pattern to people."
   ],
   "metadata": {
    "collapsed": false
   }
  },
  {
   "cell_type": "code",
   "execution_count": 7,
   "outputs": [
    {
     "name": "stdout",
     "output_type": "stream",
     "text": [
      "                             Types  AVG(calories)  AVG(total_fat)  \\\n",
      "r_name                                                              \n",
      "NaN                              0       459.4577         24.4788   \n",
      "Applebee's                       0       535.8140         29.0960   \n",
      "BJ's Restaurant & Brewhouse      0       488.9209         22.6404   \n",
      "Bob Evans                        0       384.9606         19.4134   \n",
      "Bojangles                        0       408.2225         20.1323   \n",
      "Bonefish Grill                   0       445.8686         26.3080   \n",
      "California Pizza Kitchen         0       550.7461         22.8102   \n",
      "Carl's Jr.                       0       455.2334         24.1069   \n",
      "Checker's Drive-In/Rallys        0       565.7641         26.8247   \n",
      "Chili's                          0       560.4523         31.4662   \n",
      "Del Taco                         0       427.9030         19.7764   \n",
      "Denny's                          0       466.8052         24.3677   \n",
      "Friendly's                       0       532.6335         26.2782   \n",
      "Hardee's                         0       408.7226         21.0490   \n",
      "IHOP                             0       524.3899         28.3318   \n",
      "Jason's Deli                     0       511.1826         27.3693   \n",
      "LongHorn Steakhouse              0       431.3268         22.6560   \n",
      "McAlister's Deli                 0       384.2238         17.7285   \n",
      "Noodles & Company                0       436.1173         20.0838   \n",
      "Olive Garden                     0       423.2257         17.9719   \n",
      "Outback Steakhouse               0       534.4170         33.3252   \n",
      "Perkins                          0       509.5529         26.2869   \n",
      "PF Chang's                       0       529.0462         22.3746   \n",
      "Quiznos                          0       403.4264         38.9949   \n",
      "Red Lobster                      0       379.5649         16.8860   \n",
      "Red Robin                        0       515.6705         23.9758   \n",
      "Ruby Tuesday                     0       501.7967         27.3628   \n",
      "TGI Friday's                     0       545.5464         27.6834   \n",
      "The Capital Grille               0       521.4688         30.0893   \n",
      "Zaxby's                          0       435.8547         29.8580   \n",
      "\n",
      "                             AVG(Protein)  AVG(sodium)  AVG(sugar)  \\\n",
      "r_name                                                               \n",
      "NaN                               17.7381     845.6825     18.2593   \n",
      "Applebee's                        23.8558    1262.2796     19.2851   \n",
      "BJ's Restaurant & Brewhouse       18.6297    1002.3109     14.1138   \n",
      "Bob Evans                         14.5416     785.1535     15.8285   \n",
      "Bojangles                         14.9543     967.5117     17.6498   \n",
      "Bonefish Grill                    23.7449     867.4768      9.6942   \n",
      "California Pizza Kitchen          18.7803     780.5334     13.7242   \n",
      "Carl's Jr.                        17.7208     872.0063     16.0521   \n",
      "Checker's Drive-In/Rallys         28.2008    1246.5229     32.2480   \n",
      "Chili's                           24.8794    1380.7838     12.2538   \n",
      "Del Taco                          16.0883     787.1680     17.3592   \n",
      "Denny's                           19.4258     974.7025     14.7853   \n",
      "Friendly's                        16.4836     823.5714     24.9517   \n",
      "Hardee's                          15.4217     900.1518     15.0945   \n",
      "IHOP                              20.1964    1042.0655     18.2119   \n",
      "Jason's Deli                      25.7436    1165.6545     10.8429   \n",
      "LongHorn Steakhouse               25.5308     783.1325     11.4371   \n",
      "McAlister's Deli                  16.2064     954.1388      8.9572   \n",
      "Noodles & Company                 16.5251     922.3045     10.5114   \n",
      "Olive Garden                      19.2368     699.1405     15.5257   \n",
      "Outback Steakhouse                34.3965    1022.7305      9.9900   \n",
      "Perkins                           15.8987     906.1914     19.0613   \n",
      "PF Chang's                        26.2289    1542.6432     24.4016   \n",
      "Quiznos                           29.5047    1117.7274      6.3954   \n",
      "Red Lobster                       22.7132     821.6810     12.7102   \n",
      "Red Robin                         16.1816     803.5196     28.9303   \n",
      "Ruby Tuesday                      24.8744    1079.6934      7.9091   \n",
      "TGI Friday's                      22.4653    1239.0578     24.2707   \n",
      "The Capital Grille                29.6514     752.1726     11.7125   \n",
      "Zaxby's                           21.9276     971.5600     14.0769   \n",
      "\n",
      "                             AVG(dietary_Fiber)  \n",
      "r_name                                           \n",
      "NaN                                      2.3239  \n",
      "Applebee's                               3.3980  \n",
      "BJ's Restaurant & Brewhouse              3.1049  \n",
      "Bob Evans                                2.3228  \n",
      "Bojangles                                1.7636  \n",
      "Bonefish Grill                           3.0023  \n",
      "California Pizza Kitchen                 4.0460  \n",
      "Carl's Jr.                               2.4034  \n",
      "Checker's Drive-In/Rallys                2.3455  \n",
      "Chili's                                  3.5240  \n",
      "Del Taco                                 3.7621  \n",
      "Denny's                                  2.6639  \n",
      "Friendly's                               2.2099  \n",
      "Hardee's                                 2.1629  \n",
      "IHOP                                     3.0185  \n",
      "Jason's Deli                             4.4280  \n",
      "LongHorn Steakhouse                      1.8379  \n",
      "McAlister's Deli                         3.7433  \n",
      "Noodles & Company                        2.8600  \n",
      "Olive Garden                             3.3487  \n",
      "Outback Steakhouse                       3.1252  \n",
      "Perkins                                  2.2936  \n",
      "PF Chang's                               4.0592  \n",
      "Quiznos                                  2.3553  \n",
      "Red Lobster                              2.1465  \n",
      "Red Robin                                2.6926  \n",
      "Ruby Tuesday                             2.9740  \n",
      "TGI Friday's                             2.9801  \n",
      "The Capital Grille                       2.6314  \n",
      "Zaxby's                                  2.4705  \n",
      "                    Types  AVG(calories)  AVG(total_fat)  AVG(Protein)  \\\n",
      "r_name                                                                   \n",
      "Auntie Anne's           1       275.5607          5.2865        4.4921   \n",
      "Baskin Robbins          1       457.2594         18.5234        8.7413   \n",
      "Burger King             1       398.2821         17.7964       11.6295   \n",
      "Church's Chicken        1       249.2882          8.3869        5.9079   \n",
      "Culver's                1       474.1866         30.4674       19.1938   \n",
      "Dairy Queen             1       525.8934         19.7327       11.5364   \n",
      "Dunkin' Donuts          1       273.7371          8.2878        6.2484   \n",
      "In-N-Out Burger         1       303.7284         15.5200       11.7850   \n",
      "Jamba Juice             1       299.6158          4.1945        6.8399   \n",
      "KFC                     1       244.6993          7.2760        6.5721   \n",
      "Krispy Kreme            1       261.4813          7.4261        6.3331   \n",
      "Long John Silver's      1       215.3468          5.9252        3.1508   \n",
      "McDonald's              1       318.1525         11.4862       10.3669   \n",
      "Panda Express           1       214.9644          6.2894        6.7272   \n",
      "Sheetz                  1       223.1426          6.9818        6.5991   \n",
      "Sonic                   1       406.9168         16.2108        7.0566   \n",
      "Starbucks               1       260.2133          7.4618        6.4358   \n",
      "Steak 'N Shake          1       438.0960         25.9651       12.9231   \n",
      "Wawa                    1       327.9445         12.8564       11.4601   \n",
      "Whataburger             1       434.8670         18.6071       13.5658   \n",
      "White Castle            1       378.2370         13.7935        8.1544   \n",
      "\n",
      "                    AVG(sodium)  AVG(sugar)  AVG(dietary_Fiber)  \n",
      "r_name                                                           \n",
      "Auntie Anne's          330.4551     33.4180              0.6921  \n",
      "Baskin Robbins         207.2902     56.3655              1.5204  \n",
      "Burger King            616.6327     27.6312              1.2671  \n",
      "Church's Chicken       432.1224     27.3121              1.0487  \n",
      "Culver's               520.8213     36.4140              2.0164  \n",
      "Dairy Queen            427.1246     58.1372              1.4572  \n",
      "Dunkin' Donuts         242.9236     33.6873              0.8429  \n",
      "In-N-Out Burger        405.5948     28.6121              1.3100  \n",
      "Jamba Juice            133.2113     50.0751              3.7621  \n",
      "KFC                    409.5972     31.7460              0.8768  \n",
      "Krispy Kreme           160.4532     33.6321              0.8313  \n",
      "Long John Silver's     291.2043     32.6805              0.6428  \n",
      "McDonald's             339.7588     32.2826              1.0867  \n",
      "Panda Express          368.8802     24.6987              0.9578  \n",
      "Sheetz                 224.6046     26.7965              0.6452  \n",
      "Sonic                  394.4275     46.6661              0.9627  \n",
      "Starbucks              145.7592     37.4298              0.9140  \n",
      "Steak 'N Shake         591.8237     32.4213              2.1976  \n",
      "Wawa                   605.0117     25.4090              1.4552  \n",
      "Whataburger            691.8955     30.3362              1.6897  \n",
      "White Castle           379.6129     46.0859              1.3448  \n",
      "                          Types  AVG(calories)  AVG(total_fat)  AVG(Protein)  \\\n",
      "r_name                                                                         \n",
      "Carrabba's Italian Grill      2       540.9292         29.4325       27.1574   \n",
      "Dickey's Barbeque Pit         2      1143.0500         44.4737       39.9605   \n",
      "Famous Dave's                 2       984.2153         59.3390       55.9765   \n",
      "Hooters                       2      1041.1162         60.2355       60.6250   \n",
      "Jersey Mike's Subs            2       574.1110         26.5068       32.3962   \n",
      "Joe's Crab Shack              2       732.3445         39.3064       38.5528   \n",
      "O'Charley's                   2       762.3767         47.3011       31.1455   \n",
      "Romano's Macaroni Grill       2       699.9852         44.9725       30.4206   \n",
      "Sbarro                        2       771.2555         35.0666       31.2853   \n",
      "Yard House                    2       697.2137         40.0058       30.8827   \n",
      "\n",
      "                          AVG(sodium)  AVG(sugar)  AVG(dietary_Fiber)  \n",
      "r_name                                                                 \n",
      "Carrabba's Italian Grill    1176.5037      8.9181              6.3316  \n",
      "Dickey's Barbeque Pit       2121.0658     15.9600              4.0400  \n",
      "Famous Dave's               2885.8822     24.3615              4.9299  \n",
      "Hooters                     1921.0583     10.9958              5.6583  \n",
      "Jersey Mike's Subs          1671.8651      9.3339              4.4195  \n",
      "Joe's Crab Shack            1600.6796     15.2706              3.4682  \n",
      "O'Charley's                 1549.5875     17.8342              3.1510  \n",
      "Romano's Macaroni Grill     1286.6627      8.3073              4.0438  \n",
      "Sbarro                      1700.0311     28.3720              4.8825  \n",
      "Yard House                  1171.2513     16.0007              4.0038  \n",
      "                        Types  AVG(calories)  AVG(total_fat)  AVG(Protein)  \\\n",
      "r_name                                                                       \n",
      "7 Eleven                    3       289.9115         14.1728        9.8063   \n",
      "Arby's                      3       347.4370         15.9087       13.2212   \n",
      "Boston Market               3       333.6874         17.6822       19.6223   \n",
      "Captain D's                 3       360.7701         19.5723       12.3632   \n",
      "Casey's General Store       3       371.7284         16.4010       15.4898   \n",
      "Chick-Fil-A                 3       257.9934         11.0010       11.0184   \n",
      "Chipotle                    3       154.1262          7.9883        5.9552   \n",
      "Chuck E. Cheese             3       203.6198          8.8835        7.3544   \n",
      "Ci Ci's Pizza               3       272.4979         11.9529       11.4077   \n",
      "Dominos                     3       269.1150         17.1254       12.2951   \n",
      "Einstein Bros               3       324.8179         12.5800       12.5364   \n",
      "El Pollo Loco               3       299.7991         18.1314       13.8566   \n",
      "Firehouse Subs              3       248.9936         11.2404       10.1770   \n",
      "Five Guys                   3       353.2214         19.9825       13.4384   \n",
      "Frisch's Big Boy            3       322.9786         15.7113       11.4835   \n",
      "Golden Corral               3       185.3627          9.8309        6.7337   \n",
      "Jack in the Box             3       318.0850         15.0499       10.0404   \n",
      "Krystal                     3       287.8143         13.0600        8.6345   \n",
      "Little Caesars              3       265.0853         14.1502       11.3311   \n",
      "Marco's Pizza               3       124.9834          6.0944        6.9353   \n",
      "Moe's Southwest Grill       3       109.2118          6.2917        4.9184   \n",
      "Panera Bread                3       263.7618         11.5310        9.6153   \n",
      "Papa John's                 3       352.2385         15.8151       16.1639   \n",
      "Papa Murphy's               3       276.5342         21.5410       22.1050   \n",
      "Pizza Hut                   3       288.2472         13.3977       11.7382   \n",
      "Popeyes                     3       291.7162         14.5000       10.2545   \n",
      "Potbelly Sandwich Shop      3       296.8473         15.9564       13.6667   \n",
      "Qdoba                       3       122.2399          6.0669        5.9358   \n",
      "Round Table Pizza           3       257.1253         11.4033       11.9306   \n",
      "Subway                      3       288.8799         13.8016       14.7950   \n",
      "Taco Bell                   3       296.2744         10.7696        8.7860   \n",
      "Tim Hortons                 3       243.7583          9.2576        6.5359   \n",
      "Wendy's                     3       229.0490          9.7020        8.3853   \n",
      "Wingstop                    3       220.3913         11.6316       12.3684   \n",
      "\n",
      "                        AVG(sodium)  AVG(sugar)  AVG(dietary_Fiber)  \n",
      "r_name                                                               \n",
      "7 Eleven                   651.4241      6.4503              2.0330  \n",
      "Arby's                     816.3705     15.3426              1.7426  \n",
      "Boston Market              765.1097      9.2172              1.9076  \n",
      "Captain D's                699.3488     17.2873              2.4164  \n",
      "Casey's General Store      812.5546     10.2588              1.6943  \n",
      "Chick-Fil-A                475.6416     18.3343              1.7551  \n",
      "Chipotle                   268.6051      2.0000              2.7343  \n",
      "Chuck E. Cheese            454.5485      5.5156              1.2734  \n",
      "Ci Ci's Pizza              601.3141      2.8828              2.5394  \n",
      "Dominos                    699.3137      3.2291              1.2923  \n",
      "Einstein Bros              509.9943     21.1816              1.9866  \n",
      "El Pollo Loco              623.5664     13.5223              3.1398  \n",
      "Firehouse Subs             559.7320     22.5258              1.1869  \n",
      "Five Guys                  525.1758      6.6151              2.0195  \n",
      "Frisch's Big Boy           654.9741     15.6338              1.8454  \n",
      "Golden Corral              323.3176     12.4508              1.0670  \n",
      "Jack in the Box            536.5218     19.9725              1.4286  \n",
      "Krystal                    509.5827     19.5452              1.1126  \n",
      "Little Caesars             561.8259      3.7167              1.2594  \n",
      "Marco's Pizza              332.8560      1.7972              0.4918  \n",
      "Moe's Southwest Grill      249.7257      1.8472              1.1719  \n",
      "Panera Bread               482.2375     10.9779              1.8988  \n",
      "Papa John's                794.8718     15.3152              1.3038  \n",
      "Papa Murphy's              744.4816     12.3356              1.5741  \n",
      "Pizza Hut                  686.5423      6.1105              1.7532  \n",
      "Popeyes                    686.1940      9.7970              2.0183  \n",
      "Potbelly Sandwich Shop     621.8796     14.9470              1.4563  \n",
      "Qdoba                      300.0429      1.8490              2.0329  \n",
      "Round Table Pizza          693.6452      3.3283              3.2957  \n",
      "Subway                     743.1892      7.0138              3.0328  \n",
      "Taco Bell                  537.6522     21.7184              2.8147  \n",
      "Tim Hortons                355.3696     19.3199              1.2475  \n",
      "Wendy's                    357.8878     18.1647              1.1462  \n",
      "Wingstop                   685.4035      3.8947              1.4561  \n"
     ]
    }
   ],
   "source": [
    "kmeans = KMeans(n_clusters= 4).fit(df_re_normal)\n",
    "df_re.insert(0, 'Types', kmeans.labels_, True)\n",
    "group0 = df_re[df_re['Types'] == 0]\n",
    "print(group0)\n",
    "group1 = df_re[df_re['Types'] == 1]\n",
    "print(group1)\n",
    "group2 = df_re[df_re['Types'] == 2]\n",
    "print(group2)\n",
    "group3 = df_re[df_re['Types'] == 3]\n",
    "print(group3)"
   ],
   "metadata": {
    "collapsed": false,
    "pycharm": {
     "name": "#%%\n"
    }
   }
  },
  {
   "cell_type": "code",
   "execution_count": 8,
   "outputs": [],
   "source": [
    "conn.close()"
   ],
   "metadata": {
    "collapsed": false,
    "pycharm": {
     "name": "#%%\n"
    }
   }
  }
 ],
 "metadata": {
  "kernelspec": {
   "display_name": "Python 3",
   "language": "python",
   "name": "python3"
  },
  "language_info": {
   "codemirror_mode": {
    "name": "ipython",
    "version": 2
   },
   "file_extension": ".py",
   "mimetype": "text/x-python",
   "name": "python",
   "nbconvert_exporter": "python",
   "pygments_lexer": "ipython2",
   "version": "2.7.6"
  }
 },
 "nbformat": 4,
 "nbformat_minor": 0
}